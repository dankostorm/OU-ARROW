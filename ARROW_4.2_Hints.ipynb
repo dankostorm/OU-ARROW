{
 "cells": [
  {
   "cell_type": "markdown",
   "metadata": {},
   "source": [
    "# ARROW Python Activity 4.2 Hints, Tips, and Code Snippets\n"
   ]
  },
  {
   "cell_type": "markdown",
   "metadata": {},
   "source": [
    "This notebook contains hints, tips and code snippets that you might find useful in completing Activity 4.2.\n",
    "\n",
    "Generally, many activities like this will require the same workflow:\n",
    "\n",
    "1. Read in some data.\n",
    "2. Process the data.\n",
    "3. Optionally, Display the data.\n",
    "4. Write out the data - usually to a new file.\n",
    "\n",
    "OPTIONAL: For those of you more confident in Python coding, you could put all the activities in a loop, provide the program with a list of all your spectrum file names and process all of them at the same time. If you do attempt this, don't use Matplotlib to display anything, use Bokeh. For a number of technical reasons, Matplotlib doesn't display multiple, sequential plots well in Jupyter notebooks.\n",
    "\n",
    "GENERAL HINT: You'll need to read in the spectrum header lines (there's 12 of them - all starting with '#') using ordinary Python File IO. Later you'll use ordinary FileIO to write these to a new file then APPEND the modified pandas Dataframe to this as comma delimited data. (use pandas .to_csv() with \"mode='a'). You'll want this information preserved for future use in the Topic.\n",
    "\n",
    "HINT: Read in, process and write out the main spectral data using Pandas.\n",
    "\n",
    "HINT: You can display the spectrum using either Matplotlib or Bokeh. Matplotlib is superficially easier but Bokeh will be more useful later on.\n",
    "\n",
    "HINT: Review the 'Pandas' and 'Bokeh' notebooks which you first used in Week 1\n"
   ]
  },
  {
   "cell_type": "markdown",
   "metadata": {},
   "source": [
    "## ARROW Data reduction"
   ]
  },
  {
   "cell_type": "markdown",
   "metadata": {},
   "source": [
    "\n",
    "Here's some tips and  bare bones snippets you might find helpful. \n",
    "\n",
    "Don't forget the spectrum files will either have to be in the same directory/folder as this notebook or you'll have to specify the path to them.\n",
    "\n",
    "Don't forget to 'import' all the packages/modules you'll need first.\n"
   ]
  },
  {
   "cell_type": "markdown",
   "metadata": {},
   "source": [
    "### Step 0 - Functions\n",
    "\n",
    "Write any functions you might find useful later. This isn't strictly necessary, but will be useful - esspecially if you later put the simple code into a loop.\n",
    "\n",
    "In this case let's write one to convert from frequency to readial velocity. \n",
    "\n",
    "NOTE: the value of using pandas Series (or numPy Array) as the function will operate over the whole vector."
   ]
  },
  {
   "cell_type": "code",
   "execution_count": null,
   "metadata": {},
   "outputs": [],
   "source": [
    "# Function to convert frequency to radial velocity. Normally expect this to be pleaced at the\n",
    "# start of the program\n",
    "\n",
    "def freq_to_vel(freq, f0=1420.4e6):\n",
    "    ''' Takes a frequency value (or Pandas Dataframe column or Series) and returns\n",
    "    a velocity value (or new Dataframe column of values). f0 is the rest\n",
    "    frequency and defaults to 1420.4 MHz'''\n",
    "    \n",
    "    # We need a value for 'c' - speed of light. Either just do it here or, neatly, use the \n",
    "    # astropy 'constants'\n",
    "    c = 299792458.0  #m/s\n",
    "    \n",
    "    v = # DO YOUR CALCULATION HERE\n",
    "    return v  #(km/s)                          "
   ]
  },
  {
   "cell_type": "markdown",
   "metadata": {},
   "source": [
    "This next one is a simple function that takes a file name and returns a new file name that just has \"-vel\" added into the original name just before the \".\".\n",
    "\n",
    "So if we passed it \"spectra_080.csv\" it will return \"spectra_080-vel.csv\"\n",
    "\n",
    "This just allows you to generate a new name for spectra that have been converted to radial velocities from frequencies. \n",
    "\n",
    "You could, of course, just prompt the user for a new name!"
   ]
  },
  {
   "cell_type": "code",
   "execution_count": null,
   "metadata": {},
   "outputs": [],
   "source": [
    "# OPTIONAL A simple function to generate a new name for the velocity/intensity file.\n",
    "# Could just prompt user for a new name.\n",
    "def gen_file_name(f_name):\n",
    "    ''' Just adds \"-vel\" to file name before \".csv\"'''\n",
    "    return f_name.replace(\".\", \"-vel.\")"
   ]
  },
  {
   "cell_type": "markdown",
   "metadata": {},
   "source": [
    "### Step 1 - Get the data"
   ]
  },
  {
   "cell_type": "code",
   "execution_count": null,
   "metadata": {
    "scrolled": true
   },
   "outputs": [],
   "source": [
    "number_header_lines=12\n",
    "file_name = input('Enter spectrum file name ')\n",
    "\n",
    "# First get 'header' lines - there are 12 of them we'll\n",
    "# You'll add these back on to our modified CSV later\n",
    "with open(file_name) as f:\n",
    "#   Here's a simple, single line to get the 12 header lines - you could use an ordinary loop\n",
    "    header_lines = [f.readline() for x in range(number_header_lines)]\n",
    "\n",
    "# Read in the rest of the data\n",
    "spectrum_df = pd.read_csv(file_name, header=number_header_lines)"
   ]
  },
  {
   "cell_type": "markdown",
   "metadata": {},
   "source": [
    "### Step 2 - Process it\n",
    "\n",
    "Actually, now we've defined our 'freq_to_vel()' function, this is pretty trivial.\n",
    "\n",
    "There are a couple of steps you'll need to take to then modify the exitsing DataFrame. This isn't necessary if you're going to be using straight forward Python file IO, but makes writing the file later using Pandas pretty easy.\n",
    "\n"
   ]
  },
  {
   "cell_type": "code",
   "execution_count": null,
   "metadata": {},
   "outputs": [],
   "source": [
    "# Convert frequency to radial velocity values using this function\n",
    "spectrum_v = freq_to_vel(spectrum_df['frequency'])\n",
    "\n",
    "# New df with column name changed to reflect unit change\n",
    "spectrum_df_v = spectrum_df.rename(index=str, columns={'frequency': 'velocity'})\n",
    "# Replace frequency values with velocity values\n",
    "spectrum_df_v['velocity'] = spectrum_v\n"
   ]
  },
  {
   "cell_type": "markdown",
   "metadata": {},
   "source": [
    "### Optional Activity - Baseline Removal\n",
    "\n",
    "This acvtivity uses the spectra you might have collected 'off-source'.\n",
    "\n",
    "You'll need to read these in, find and average of the 'intensity' column (as the frequency column will be the same as the main spectra you only need to concern yourself with the 'intensity' column)\n",
    "\n",
    "The steps will be something like this:\n",
    "\n",
    "1. Read in the seprate background files using Pandas. This will be as above, but you can ignore the header lines completely.\n",
    "2. Average the 'intensity' columns. Take advantage of the fact that, as with a numPy 1D Array, you can sum a number of Pandas Series (or DataFRame columns) by just using '+'. And you can divide a whole column by a number by just using '/'. See Section 5.3 'NumPy Arrays, in the \"Python Everything You Wanted To Know\" resource.\n",
    "3. Subtract this from the main spectrum 'intensity' column.\n"
   ]
  },
  {
   "cell_type": "markdown",
   "metadata": {},
   "source": [
    "### Step 3 - Display it"
   ]
  },
  {
   "cell_type": "code",
   "execution_count": null,
   "metadata": {},
   "outputs": [],
   "source": [
    "output_notebook()\n",
    "p = figure(title = \"Put your Title here\", \n",
    "          x_axis_label='Velocity (kms^-1)', \n",
    "          y_axis_label='Intensity')\n",
    "p.line(DataFrame x values, DataFrame y values)\n",
    "show(p)"
   ]
  },
  {
   "cell_type": "markdown",
   "metadata": {},
   "source": [
    "\n",
    "### Step 4 - Finally, write the modified data out to a file.\n"
   ]
  },
  {
   "cell_type": "code",
   "execution_count": null,
   "metadata": {},
   "outputs": [],
   "source": [
    "# The 'file_name' was user input in Step 1\n",
    "# Here, gen_file_name() is a function we defined earlier which is used to generate a new file\n",
    "# name. You could just as easily prompt the user for a new name.\n",
    "new_file_name = gen_file_name(file_name) \n",
    "\n",
    "# First write the header lines that we read in earlier to the file\n",
    "with open(new_file_name, \"w\") as f:\n",
    "    f.writelines(header_lines)\n",
    "    \n",
    "# Now append the modified csv data\n",
    "# Note we just 'append' the data - otherwise we would overwtite the header lines\n",
    "spectrum_df_v.to_csv(new_file_name, index=False, mode='a')"
   ]
  },
  {
   "cell_type": "code",
   "execution_count": null,
   "metadata": {},
   "outputs": [],
   "source": []
  }
 ],
 "metadata": {
  "kernelspec": {
   "display_name": "Python 3",
   "language": "python",
   "name": "python3"
  },
  "language_info": {
   "codemirror_mode": {
    "name": "ipython",
    "version": 3
   },
   "file_extension": ".py",
   "mimetype": "text/x-python",
   "name": "python",
   "nbconvert_exporter": "python",
   "pygments_lexer": "ipython3",
   "version": "3.7.3"
  }
 },
 "nbformat": 4,
 "nbformat_minor": 2
}
