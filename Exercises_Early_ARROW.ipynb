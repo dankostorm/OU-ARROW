{
 "cells": [
  {
   "cell_type": "markdown",
   "metadata": {},
   "source": [
    "# Early ARROW Python exercises\n",
    "\n",
    "Just to get students thinking in Python\n"
   ]
  },
  {
   "cell_type": "markdown",
   "metadata": {},
   "source": [
    "## Simple wavelength to frequency conversion (Section 1.2)\n",
    "\n",
    "Write a short Python program to ask the user to input a wavelength in cm and output the frequency. Define any pyhsical constants as variables.\n",
    "\n",
    "BONUS - display the output using scientific notation to 4 decimal places\n",
    "\n",
    "Extend this so that it allows the user to repeat the conversions until no longer required.\n"
   ]
  },
  {
   "cell_type": "code",
   "execution_count": null,
   "metadata": {},
   "outputs": [],
   "source": [
    "C = 2.9979e8 #m/s\n",
    "wavelength = float(input('Enter a wavelength in cm '))\n",
    "wavelength_m = wavelength/100 #wavelength in m\n",
    "print('Frequency is: ', C/wavelength_m, 'Hz')"
   ]
  },
  {
   "cell_type": "markdown",
   "metadata": {},
   "source": [
    "\n",
    "BONUS: Print out the answer using scientific notation and to 4 decimal places. (Hint, use 'f' strings or 'format' statements.\n"
   ]
  },
  {
   "cell_type": "code",
   "execution_count": 2,
   "metadata": {},
   "outputs": [],
   "source": [
    "C = 2.9979e8 #m/s\n",
    "wavelength = float(input('Enter a wavelength in cm '))\n",
    "wavelength_m = wavelength/100 #wavelength in m\n",
    "freq = C/wavelength_m\n",
    "print(f'Frequency is: {freq:.4e} Hz')"
   ]
  },
  {
   "cell_type": "markdown",
   "metadata": {},
   "source": [
    "\n",
    "Now, place this in a loop so that the user can repeat the conversion until they enter a negative \n",
    "number\n"
   ]
  },
  {
   "cell_type": "code",
   "execution_count": 3,
   "metadata": {},
   "outputs": [
    {
     "name": "stdout",
     "output_type": "stream",
     "text": [
      "Enter a wavelength in cm 21\n",
      "Frequency is: 1.4276e+09 Hz\n",
      "Enter a wavelength in cm (enter a negative number to exit) 45\n",
      "Frequency is: 6.6620e+08 Hz\n",
      "Enter a wavelength in cm (enter a negative number to exit) -1\n",
      "Thanks. You asked for 2 conversions.\n"
     ]
    }
   ],
   "source": [
    "C = 2.9979e8 #m/s\n",
    "wavelength=-1 # Reset to avoid conflicting with previous Cells\n",
    "wavelength = float(input('Enter a wavelength in cm '))\n",
    "count=0\n",
    "while wavelength >= 0:\n",
    "    count +=1\n",
    "    wavelength_m = wavelength/100 #wavelength in m\n",
    "    freq = C/wavelength_m\n",
    "    print(f'Frequency is: {freq:.4e} Hz')\n",
    "    wavelength = float(input('Enter a wavelength in cm (enter a negative number to exit) '))\n",
    "print(f'Thanks. You asked for {count} conversions.')"
   ]
  },
  {
   "cell_type": "markdown",
   "metadata": {},
   "source": [
    "### The Doppler effect as a function (Section 1.4)\n",
    "\n",
    "Write a function that takes a frequency shift (or numpy Array or Pandas Series of frequencies) and a rest frequency and returns these converted to radial velocity, using the Doppler effect.\n",
    "\n",
    "Using information from the 'astropy' notebook, use constant values defined withn the astropy.constants module. Also, try and use the astropy.units to return the result in km/s\n",
    "\n",
    "Write a short program to test this.\n"
   ]
  },
  {
   "cell_type": "code",
   "execution_count": null,
   "metadata": {},
   "outputs": [
    {
     "name": "stdout",
     "output_type": "stream",
     "text": [
      "Radial velocities are:\n",
      "168.9 km / s\n",
      "84.4 km / s\n",
      "-0.0 km / s\n",
      "-42.2 km / s\n",
      "-126.6 km / s\n"
     ]
    }
   ],
   "source": [
    "def freq_to_vel(freq, f0=1420.4e6):\n",
    "    ''' Takes a frequency shift value (or Pandas dataframe Series or Numpy array) and returns\n",
    "    a velocity value (or new dataframe column of values). f0 is the rest\n",
    "    frequency and defaults to 1420.4 MHz'''\n",
    "    \n",
    "    from astropy import constants as const\n",
    "    from astropy import units as u\n",
    "  \n",
    "    # We need a value for 'c' - speed of light. Either just do it here or, neatly, use the \n",
    "    # astropy 'constants'\n",
    "    \n",
    "    # c = 299792458.0  #m/s\n",
    "    c = const.c\n",
    "    v = -c*(freq)/(freq+f0)\n",
    "    return v.to(u.km/u.s)  #(km/s)\n",
    "\n",
    "import numpy as np\n",
    "\n",
    "freqs = np.array([-800000, -400000, 0, 200000, 600000])\n",
    "vels = freq_to_vel(freqs)\n",
    "print(\"Radial velocities are:\")\n",
    "for fs in vels:\n",
    "    print( f\"{fs:.1f}\")"
   ]
  },
  {
   "cell_type": "markdown",
   "metadata": {},
   "source": [
    "### Finding beam widths for a radio telescope (Section 2.2)\n",
    "\n",
    "Write a short Python program to ask for the diameter of a radio telescope dish in metres and the observed wavelength in cm. Print out the beam width in radians and also in degrees.\n"
   ]
  },
  {
   "cell_type": "code",
   "execution_count": null,
   "metadata": {},
   "outputs": [],
   "source": [
    "d = float(input('Enter dish diameter in m '))\n",
    "wvl = float(input('Enter observed wavelength in cm '))\n",
    "bw = (1.22*wvl/100)/d\n",
    "print(f'Beamwidth is {bw:.4} radians, which is, {bw*180/3.14159:.2} degrees')"
   ]
  },
  {
   "cell_type": "code",
   "execution_count": null,
   "metadata": {},
   "outputs": [],
   "source": []
  },
  {
   "cell_type": "code",
   "execution_count": null,
   "metadata": {},
   "outputs": [],
   "source": []
  },
  {
   "cell_type": "code",
   "execution_count": null,
   "metadata": {},
   "outputs": [],
   "source": []
  }
 ],
 "metadata": {
  "kernelspec": {
   "display_name": "Python 3",
   "language": "python",
   "name": "python3"
  },
  "language_info": {
   "codemirror_mode": {
    "name": "ipython",
    "version": 3
   },
   "file_extension": ".py",
   "mimetype": "text/x-python",
   "name": "python",
   "nbconvert_exporter": "python",
   "pygments_lexer": "ipython3",
   "version": "3.7.3"
  }
 },
 "nbformat": 4,
 "nbformat_minor": 2
}
