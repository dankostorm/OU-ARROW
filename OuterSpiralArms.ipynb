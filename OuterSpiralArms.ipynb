{
 "cells": [
  {
   "cell_type": "markdown",
   "metadata": {},
   "source": [
    "# Activity 7.2 Mapping the outer spiral arms\n",
    "\n",
    "Essentially this will follow the following workflow\n",
    "\n",
    "1. Read in the longitude, cloud speed values you've obtained from Activity 5.3 and 6.1\n",
    "\n",
    "2. Use these values to calculate the radius from Galctic centre for each cloud.\n",
    "\n",
    "3. Print these data points out, producing a partial map of the Galactic spiral arms\n",
    "\n",
    "First though, using values you measured from Activities 5.3 and 6.1, and selected data from other students, create a comma delimited file (we've called it 'cloud_v.csv' in this notebook) using a simple text editor (NOT a wordprocessor).\n",
    "\n",
    "This should look someything like this:\n",
    "\n",
    "`longitude,v_obs\n",
    " 30,125\n",
    " 30,-5\n",
    " 40,75\n",
    " 40,-5\n",
    " 40,-25\n",
    " ...`\n",
    "\n"
   ]
  },
  {
   "cell_type": "markdown",
   "metadata": {},
   "source": [
    "# Step 1 - Setup\n",
    "\n",
    "Import any packages/modules you'll need\n",
    "\n",
    "Define any standard values you'll be using such as:\n",
    " \n",
    " R0 = 8.5 kpc\n",
    " \n",
    " V0 = 220 km/s\n",
    " \n",
    " V = as measured from Activity 6.3\n",
    " \n",
    " HINT: you might also like to include things like a kiloparsec to metre factor.\n"
   ]
  },
  {
   "cell_type": "code",
   "execution_count": null,
   "metadata": {},
   "outputs": [],
   "source": [
    "import matplotlib.pyplot as plt\n",
    "import pandas as pd\n",
    "import numpy as np\n",
    "\n",
    "R0 = 8.5\n",
    "V0 = 220# Use your value here \n",
    "V = ??? # Use your value here \n",
    "KPC_M = 3.08567758e+19 # kiloparsec to metre conversion factor"
   ]
  },
  {
   "cell_type": "markdown",
   "metadata": {},
   "source": [
    "### Step 2 - Read the data\n",
    "\n",
    "As usual, read in the data and display it if you want.\n"
   ]
  },
  {
   "cell_type": "code",
   "execution_count": null,
   "metadata": {},
   "outputs": [],
   "source": [
    "clouds_df = pd.?????('cloud_v.csv')\n",
    "\n",
    "clouds_df.head()"
   ]
  },
  {
   "cell_type": "markdown",
   "metadata": {},
   "source": [
    "## Steps 3, and 4 - calculate R values from vobs\n",
    "\n",
    "Now, complete the calculation part of the task by taking longitude and speed values to calculate R for each cloud. Just create another DataFrame column indexed as 'R'.\n",
    "\n",
    "\n",
    "$ R = V R_0 / [V_0 + (V_{obs}/sin(l))]$\n",
    "\n",
    "So, something like: "
   ]
  },
  {
   "cell_type": "code",
   "execution_count": null,
   "metadata": {},
   "outputs": [],
   "source": [
    "R0 = R0*KPC_M\n",
    "V0 = V0*1000\n",
    "V=V*1000\n",
    "\n",
    "clouds_df['R'] = # do the calculation using vals_df['longitude']\n",
    "\n",
    "print(clouds_df)"
   ]
  },
  {
   "cell_type": "markdown",
   "metadata": {},
   "source": [
    "## Step 6 - Do the plotting\n",
    "\n",
    "EITHER, copy these or write them all out to a file which can be used to produce a spiral arm plot by hand.\n",
    "\n",
    "OR\n",
    "\n",
    "plot these now:\n",
    "\n",
    "You can use Matplotlib or Bokeh here. \n",
    "\n",
    "The matplotlib notebook contains a simple example of how to do a 'polar' plot - $r,\\theta$\n",
    "\n",
    "#### Simple matplotlib example\n",
    "\n",
    "Here's a bare-bones example but you can make a much better plot using use of:\n",
    "\n",
    "`plt.rcParams('figure,figsize')` to increase the figure size\n",
    "\n",
    "`plt.scatter()` - used again to show Sun position\n",
    " \n",
    "`plt.xlim() and plt.yticks()` to control the display of 'axes'\n",
    " \n",
    "`plt.annotate()` to label things like the Sun etc.`\n"
   ]
  },
  {
   "cell_type": "code",
   "execution_count": null,
   "metadata": {},
   "outputs": [],
   "source": [
    "cloud_thetas = clouds_df['longitude']*3.142/180\n",
    "cloud_r = clouds_df['R']\n",
    "\n",
    "plt.subplot(111, projection='polar')\n",
    "plt.scatter(cloud_thetas, cloud_r)\n",
    "plt.title(\"Galaxy plot showing H cloud positions\", va='bottom')\n",
    "plt.show()"
   ]
  },
  {
   "cell_type": "code",
   "execution_count": null,
   "metadata": {},
   "outputs": [],
   "source": []
  },
  {
   "cell_type": "code",
   "execution_count": null,
   "metadata": {},
   "outputs": [],
   "source": []
  }
 ],
 "metadata": {
  "kernelspec": {
   "display_name": "Python 3",
   "language": "python",
   "name": "python3"
  },
  "language_info": {
   "codemirror_mode": {
    "name": "ipython",
    "version": 3
   },
   "file_extension": ".py",
   "mimetype": "text/x-python",
   "name": "python",
   "nbconvert_exporter": "python",
   "pygments_lexer": "ipython3",
   "version": "3.7.3"
  }
 },
 "nbformat": 4,
 "nbformat_minor": 2
}
