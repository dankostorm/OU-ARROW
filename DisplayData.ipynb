{
 "cells": [
  {
   "cell_type": "markdown",
   "metadata": {},
   "source": [
    "# Activity 5.1 Displaying your own data"
   ]
  },
  {
   "cell_type": "markdown",
   "metadata": {},
   "source": [
    "This notebook contains hints, tips and code snippets that you might find useful in completing Activity 5.1\n",
    "\n",
    "This is all about displaying a spectrum file and inspecting it to mke sure it looks reasonable and perhaps making some preliminary measurements. This is often a common start to any scientific data analysis workflow.\n",
    "\n",
    "In out line the overal steps are:\n",
    "\n",
    "1. Prompt the user for a specrum file name\n",
    "2. Read in the spectral data using Pandas.\n",
    "3. Display the spectrum using either Matplotlib or Bokeh. Matplotlib is superficially easier but Bokeh will be more useful later on.\n",
    "4. Explore the displayed data\n",
    "\n",
    "GENERAL HINT: Review the 'UsingPandas' and 'UsingBokeh' notebooks before you start\n"
   ]
  },
  {
   "cell_type": "markdown",
   "metadata": {},
   "source": [
    "## Step 0 - import the packages you need\n",
    "\n",
    "\n",
    "Don't forget to import the packages/modules you'll need. As this is the firts time you've done this, we'll give you what you need.\n"
   ]
  },
  {
   "cell_type": "code",
   "execution_count": null,
   "metadata": {},
   "outputs": [],
   "source": [
    "import pandas as pd\n",
    "from bokeh.plotting import figure, output_notebook, show\n",
    "from bokeh.models.tools import HoverTool"
   ]
  },
  {
   "cell_type": "markdown",
   "metadata": {},
   "source": [
    "## Step 1 and 2 - Get the data\n",
    "\n",
    "Generally, the ARROW spectral data contain 12 lines of header comments. Following these, the next line contains the names of the data columns ('frequency' and 'intensity'). The actual columns of data then follow.\n",
    "\n",
    "Use Pandas to read this data in - skipping the header lines. The notebook 'UsingPandas' section 1 shows you how to do this.\n",
    "\n",
    "We've optionally also shown the first 4 lines\n"
   ]
  },
  {
   "cell_type": "code",
   "execution_count": null,
   "metadata": {
    "scrolled": true
   },
   "outputs": [],
   "source": [
    "number_header_lines=12\n",
    "\n",
    "# Prompt for a spectrum file. Don't forget it must be in the same folder as the notebook\n",
    "file_name = input('Enter spectrum file name ')\n",
    "\n",
    "# Read in the data\n",
    "spectrum_df = pd.read_csv( ... ) # UsingPandas section 1\n",
    "\n",
    "spectrum_df.head(4)"
   ]
  },
  {
   "cell_type": "markdown",
   "metadata": {},
   "source": [
    "This will read the data into a pandas DataFrame with column names taken from the spectrum file. \n",
    "\n",
    "Now, remember that you can refer to a specific column using these column names. For example, if you had a dataframe formed from the ARROW data called 'df', then \"df['intensity']\" would indicate the column with 'intensity' as its header.\n",
    "\n",
    "In this case, with ARROW data, the columns are called 'frequency' and 'intensity'\n"
   ]
  },
  {
   "cell_type": "markdown",
   "metadata": {},
   "source": [
    "\n",
    "## Step 3 - Display it (Simple Form)\n",
    "\n",
    "This is covered in UsingBokeh section 2.\n",
    "\n",
    "The key command line here requires you to specify the 'x' and 'y' axis data. In our case this will look like:\n",
    "\n",
    "x values are given by: **spectrum_df['frequency']**\n",
    "\n",
    "y values are given by: **spectrum_df['intensity']** \n"
   ]
  },
  {
   "cell_type": "code",
   "execution_count": null,
   "metadata": {},
   "outputs": [],
   "source": [
    "output_notebook() # This just makes sure the ouput appears here, in the notebook\n",
    "p = figure(title = \"Put your Title here\", \n",
    "          x_axis_label='Frequency (Hz)', \n",
    "          y_axis_label='Intensity')\n",
    "# Now complete the next line given the information given just above\n",
    "p.line(fill in the x values here, fill in the y values here)\n",
    "show(p)"
   ]
  },
  {
   "cell_type": "markdown",
   "metadata": {},
   "source": [
    "\n",
    "### Step 3a - Display it (but with added inspection tools)\n",
    "\n",
    "This is fine and works well with Jupyter notebooks but by adding some Bokeh tools - in particular the 'HoverTool' - you wil be able to get much more out of your inspection.\n",
    "\n",
    "The 'UsingBokeh' notebook (section 3)explains how to do this (just use the add_tools() function to the code above). The the 'HoverTool' is what would be really useful.\n",
    "\n",
    "HINT: You'll need the 'add_tools()' function.\n",
    "\n",
    "You can save a PNG image of the plot using the Bokeh sidebar."
   ]
  },
  {
   "cell_type": "code",
   "execution_count": null,
   "metadata": {},
   "outputs": [],
   "source": [
    "output_notebook() \n",
    "p = figure(title = \"With HoverTool\")\n",
    "# Now complete the next line given the information given just above\n",
    "#p.line(fill in the x values here, fill in the y values here)\n",
    "p.add_tools(HoverTool(mode='vline'))\n",
    "show(p)"
   ]
  },
  {
   "cell_type": "code",
   "execution_count": null,
   "metadata": {},
   "outputs": [],
   "source": []
  }
 ],
 "metadata": {
  "kernelspec": {
   "display_name": "Python 3",
   "language": "python",
   "name": "python3"
  },
  "language_info": {
   "codemirror_mode": {
    "name": "ipython",
    "version": 3
   },
   "file_extension": ".py",
   "mimetype": "text/x-python",
   "name": "python",
   "nbconvert_exporter": "python",
   "pygments_lexer": "ipython3",
   "version": "3.7.3"
  }
 },
 "nbformat": 4,
 "nbformat_minor": 2
}
