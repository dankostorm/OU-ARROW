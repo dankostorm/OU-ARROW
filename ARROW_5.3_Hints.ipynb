{
 "cells": [
  {
   "cell_type": "markdown",
   "metadata": {},
   "source": [
    "###  ARROW Python Activity 5.3 Hints, Tips, and Code Snippets\n",
    "\n",
    "Essentially this will follow the following workflow\n",
    "\n",
    "1. Read in the longitude, V_obs_max, an V_error values you've obtained from Activity 5.2\n",
    "\n",
    "2. Use these values to calculate the radius fromm Galctic centre and rotational speeds for each longitude observation.\n",
    "\n",
    "3. Plot these to obtain a Rotation Curve.\n",
    "\n"
   ]
  },
  {
   "cell_type": "markdown",
   "metadata": {},
   "source": [
    "### Step 1 - Setup\n",
    "\n",
    "Import any packages/modules you'll need\n",
    "\n",
    "Define any standard values you'll be using:\n",
    "\n",
    "R0 = 8.5 kpc\n",
    "\n",
    "V0 = 220 km/s\n",
    " \n"
   ]
  },
  {
   "cell_type": "markdown",
   "metadata": {},
   "source": [
    "### Step 2 - Read the data\n",
    "\n",
    "As usual, read in the data and display it if you want.\n"
   ]
  },
  {
   "cell_type": "code",
   "execution_count": null,
   "metadata": {},
   "outputs": [],
   "source": [
    "vals_df = pd.read_csv('vobs.csv')\n",
    "\n",
    "df.head()"
   ]
  },
  {
   "cell_type": "markdown",
   "metadata": {},
   "source": [
    "### Steps 4, 5, amd 6 - calculate some R and V values\n",
    "\n",
    "Now, complete the task by taking longitude and v_obs_max values to calculate R and V.\n",
    "\n",
    "\n",
    "$ R = R_0 sin(l)$\n",
    "\n",
    "and\n",
    "\n",
    "$ V = V_{obs,max} + V_0 sin(l)$\n",
    "\n",
    "So, something like: "
   ]
  },
  {
   "cell_type": "code",
   "execution_count": null,
   "metadata": {},
   "outputs": [],
   "source": [
    "\n",
    "vals_df['R'] = do the calculation using vals_df['longitude']\n",
    "vals_df['V'] = do the calculation using vals_df['longitude']\n",
    "vals_df['V_err'] = basically the same as v_error\n",
    "vals_df\n"
   ]
  },
  {
   "cell_type": "markdown",
   "metadata": {},
   "source": [
    "### Step 6 - Do the plotting\n",
    "\n",
    "Now, plot these:\n",
    "\n",
    "You can use Matplotlib or Bokeh here.\n"
   ]
  },
  {
   "cell_type": "markdown",
   "metadata": {},
   "source": [
    "\n",
    "### Highly optional - do some research and try fitting a curve to the data\n",
    "\n",
    "Let's 'fit' a curve of the form C0-C1e^(-C3*R) to the data using scipy.optimize.curve_fit()\n"
   ]
  },
  {
   "cell_type": "code",
   "execution_count": null,
   "metadata": {},
   "outputs": [],
   "source": [
    "from scipy.optimize import curve_fit\n",
    "\n",
    "# Here'e a simple mathematical curve that might fit\n",
    "def gal_curve(r,C0,C1,C2):\n",
    "    return C0-C1*np.exp(-C2*r)\n",
    "\n",
    "R = vals_df['R'].values\n",
    "V = vals_df['V'].values\n",
    "R2 = np.linspace(0,8.5, 50)\n",
    "\n",
    "# 'Guess' some initial parameters for the constants\n",
    "c0 = [250,200,0.15]\n",
    "\n",
    "# and fit the curve \n",
    "c,pcov = curve_fit(gal_curve,R,V,p0)\n",
    "\n",
    "print('Optimised parameters are:', *c)\n",
    "\n",
    "# Plot it \n",
    "plt.scatter(R2,gal_curve(R2,*c))\n",
    "plt.show()\n"
   ]
  },
  {
   "cell_type": "code",
   "execution_count": null,
   "metadata": {},
   "outputs": [],
   "source": []
  },
  {
   "cell_type": "code",
   "execution_count": null,
   "metadata": {},
   "outputs": [],
   "source": []
  },
  {
   "cell_type": "code",
   "execution_count": null,
   "metadata": {},
   "outputs": [],
   "source": []
  }
 ],
 "metadata": {
  "kernelspec": {
   "display_name": "Python 3",
   "language": "python",
   "name": "python3"
  },
  "language_info": {
   "codemirror_mode": {
    "name": "ipython",
    "version": 3
   },
   "file_extension": ".py",
   "mimetype": "text/x-python",
   "name": "python",
   "nbconvert_exporter": "python",
   "pygments_lexer": "ipython3",
   "version": "3.7.3"
  }
 },
 "nbformat": 4,
 "nbformat_minor": 2
}
