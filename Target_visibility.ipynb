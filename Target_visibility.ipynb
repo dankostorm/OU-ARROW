{
 "cells": [
  {
   "cell_type": "markdown",
   "metadata": {},
   "source": [
    "# Activity 4.2 Target visibility using Python\n",
    "\n",
    "In this activity you are asked to determine if an astronomical target will be visible from ARROW at the time and data you choose for your observation.\n",
    "\n",
    "Most of the code you need can be found in the UsingAstopy notebook.\n",
    "\n",
    "Esentially, you'll need to \n",
    " 1. Prompt the user for time and date of the observation.\n",
    " 2. Use this to construct an astropy.time.Time object\n",
    " 3. Construct an astropy.coordinates.EarthLocation for the ARROW telescope.\n",
    " 4. Prompt the user for a Galactic longitude (l) value (as we are looking along the Galactic equator, the Galactic latitude, b, will be 0. NOTE, if you want, rather than ask, loop through a sequence of 'l' values from 0 to 240 at, say 10 degree increments.\n",
    " 5. For each 'l' value, create an astropy.coordinates.SkyCoord object in the Galactic 'frame'.\n",
    " 6. Using all this information, convert from the Galactic to the AltAz frame.\n",
    " 7. Check if the Alt and Az values are within ARROW limits (visible) or not (not visible).\n",
    "\n"
   ]
  },
  {
   "cell_type": "markdown",
   "metadata": {},
   "source": [
    "## Step 0 - do your imports\n",
    "\n",
    "We've done one that you might need\n"
   ]
  },
  {
   "cell_type": "code",
   "execution_count": null,
   "metadata": {},
   "outputs": [],
   "source": [
    "from astropy.time import Time\n",
    "# Now add the rest"
   ]
  },
  {
   "cell_type": "markdown",
   "metadata": {},
   "source": [
    "\n",
    "## Step 2 and 3 - create a 'Time' object\n",
    "\n",
    "Here are the bare bones. Look in UsingAstropy section 4.1\n"
   ]
  },
  {
   "cell_type": "code",
   "execution_count": null,
   "metadata": {},
   "outputs": [],
   "source": [
    "obs_date = input('Enter observing date in format yyyy-mm-dd ')\n",
    "obs_time = # Prompt for an input in a suitable format\n",
    "\n",
    "# Concatonate these 2 to form a suitable 'Time' string (obs_str)\n",
    "\n",
    "# Now form a 'Time' object\n",
    "obs = Time(obs_str, format='isot', scale='utc')"
   ]
  },
  {
   "cell_type": "markdown",
   "metadata": {},
   "source": [
    "\n",
    "## Step 3 - create an ARROW 'EarthLocation'\n",
    "\n",
    "You can get this directly from UsingAstropy section 4.2\n"
   ]
  },
  {
   "cell_type": "code",
   "execution_count": null,
   "metadata": {},
   "outputs": [],
   "source": [
    "ARROW = EarthLocation(\n",
    "\n",
    ")"
   ]
  },
  {
   "cell_type": "markdown",
   "metadata": {},
   "source": [
    "\n",
    "## Step 4 and 5 - create a 'SkyCoord'\n",
    "\n",
    "Prompt for an 'l' value - remember 'b' will be 0\n",
    "\n",
    "Convert to a SkyCoord object - section 3 in UsingAstropy\n"
   ]
  },
  {
   "cell_type": "code",
   "execution_count": null,
   "metadata": {},
   "outputs": [],
   "source": [
    "l = int(input('Enter a Galactic longitude value '))\n",
    "# Create a SkyCoord for the target\n",
    "target = SkyCoord(l=l*u.deg, b=0*u.deg, frame='galactic')"
   ]
  },
  {
   "cell_type": "markdown",
   "metadata": {},
   "source": [
    "\n",
    "## Step 6 - change Frames\n",
    "\n",
    "Covered in UsingAstropy section 4.3\n"
   ]
  },
  {
   "cell_type": "code",
   "execution_count": null,
   "metadata": {},
   "outputs": [],
   "source": [
    "# Create an observation AltAz frame using the observation Time and EarthLocation\n",
    "obs_frame = AltAz(obstime= , location= ) # Use the appropriate data here\n",
    "# And convert to the AltAz Frame\n",
    "obs_altaz=target.transform_to(obs_frame)"
   ]
  },
  {
   "cell_type": "markdown",
   "metadata": {},
   "source": [
    "\n",
    "## Step 7 - Get and check Alt and Az values\n",
    "\n",
    "UsingAstropy section 4.3\n"
   ]
  },
  {
   "cell_type": "code",
   "execution_count": null,
   "metadata": {},
   "outputs": [],
   "source": [
    "# Get the Alt and Az values\n",
    "obs_alt = obs_altaz.alt.deg\n",
    "obs_az = obs_altaz.az.deg\n",
    "\n",
    "# Now check if they are within the ARROW limits\n",
    "\n",
    "if obs_alt>20 and obs_alt<80 and obs_az>20 and obs_az<340:\n",
    "    # Do or print something\n",
    "else:\n",
    "    # Do or print something else"
   ]
  }
 ],
 "metadata": {
  "kernelspec": {
   "display_name": "Python 3",
   "language": "python",
   "name": "python3"
  },
  "language_info": {
   "codemirror_mode": {
    "name": "ipython",
    "version": 3
   },
   "file_extension": ".py",
   "mimetype": "text/x-python",
   "name": "python",
   "nbconvert_exporter": "python",
   "pygments_lexer": "ipython3",
   "version": "3.7.3"
  }
 },
 "nbformat": 4,
 "nbformat_minor": 2
}
