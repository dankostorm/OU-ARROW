{
 "cells": [
  {
   "cell_type": "markdown",
   "metadata": {},
   "source": [
    "# ARROW Python Activity 5.2 and 5.3 Hints, Tips, and Code Snippets\n"
   ]
  },
  {
   "cell_type": "markdown",
   "metadata": {},
   "source": [
    "This notebook contains hints, tips and code snippets that you might find useful in completing Activities 5.2 and 5.3\n",
    "\n",
    "Generally, many activities like this will require the same workflow:\n",
    "\n",
    "1. Read in some data.\n",
    "2. Process the data.\n",
    "3. Optionally, Display the data.\n",
    "4. Write out the data - usually to a new file.\n",
    "\n",
    "OPTIONAL: For those of you more confident in Python coding, you could put all the activities in a loop, provide the program with a list of all your spectrum file names and process all of them at the same time. If you do attempt this, don't use Matplotlib to display anything, use Bokeh. For a number of technical reasons, Matplotlib doesn't display multiple, sequential plots well in Jupyter notebooks.\n",
    "\n",
    "GENERAL HINT: You'll need to read in the spectrum header lines (there's 12 of them - all starting with '#') using ordinary Python File IO. Later you'll use ordinary FileIO to write these to a new file then APPEND the modified pandas Dataframe to this as comma delimited data. (use pandas .to_csv() with \"mode='a'). You'll want this information preserved for future use in the Topic.\n",
    "\n",
    "HINT: Read in, process and write out the main spectral data using Pandas.\n",
    "\n",
    "HINT: You can display the spectrum using either Matplotlib or Bokeh. Matplotlib is superficially easier but Bokeh will be more useful later on.\n",
    "\n",
    "HINT: Review the 'UsingPandas', 'UsingBokeh' and 'FileIO' before you start\n"
   ]
  },
  {
   "cell_type": "markdown",
   "metadata": {},
   "source": [
    "\n",
    "Here's some tips and  bare bones snippets you might find helpful. \n",
    "\n",
    "Don't forget the spectrum files will either have to be in the same directory/folder as this notebook or you'll have to specify the path to them.\n",
    "\n",
    "Don't forget to 'import' all the packages/modules you'll need first.\n"
   ]
  },
  {
   "cell_type": "markdown",
   "metadata": {},
   "source": [
    "## Step 0 - Imports and Functions\n",
    "\n",
    "Do your imports - you should be pretty confident with this now. We'll do the firts obvious one:\n"
   ]
  },
  {
   "cell_type": "code",
   "execution_count": 1,
   "metadata": {},
   "outputs": [],
   "source": [
    "import pandas as pd\n",
    "# Any others you might need"
   ]
  },
  {
   "cell_type": "markdown",
   "metadata": {},
   "source": [
    "Now write any functions you might find useful later. This isn't strictly necessary, but will be useful - especially if you later put the simple code into a loop.\n",
    "\n",
    "First we'll provide you with  a function that performs the slightly awkward process of reading in the data file - initially reading (and saving for later) the header lines, and then the actual data. You could, of course just do this in a block at the start of the code. Do, at least try and understand what is going on though.\n"
   ]
  },
  {
   "cell_type": "code",
   "execution_count": 2,
   "metadata": {},
   "outputs": [],
   "source": [
    "def read_ARROW_data(filename):\n",
    "    \"\"\"Reads in and partially processes an  ARROW spectrum\n",
    "    \n",
    "    The spectrum file contains a number of header lines indicated by `#' or blanks. \n",
    "    This function splits these from the main data and returns both \n",
    "            \n",
    "    Parameters\n",
    "    ----------\n",
    "    filename : str\n",
    "        Name of the spectrum file\n",
    "    \n",
    "    Returns\n",
    "    -------\n",
    "    dat : class: pandas.DataFrame\n",
    "        Spectrum data\n",
    "    Header lines : list of str\n",
    "        List of header lines\n",
    "    \"\"\"\n",
    "    \n",
    "    # Read lines till first line not starting with #, or whitespace.\n",
    "    # Store these as a list\n",
    "    header_list=[]\n",
    "    number_header_lines=0\n",
    "    dat=None\n",
    "    with open(filename) as f:\n",
    "        line = f.readline()\n",
    "        while line[0] == '#' or line[0] == ',' or line[0].isspace():\n",
    "            header_list.append(line)\n",
    "            number_header_lines += 1\n",
    "            line = f.readline()\n",
    "        dat = pd.read_csv(filename, header=number_header_lines)\n",
    "\n",
    "    return dat, header_list"
   ]
  },
  {
   "cell_type": "markdown",
   "metadata": {},
   "source": [
    "Next, let's write one to convert from frequency to radial velocity. You just need to fill in the actual calculation line.\n",
    "\n",
    "NOTE: if you pass a pandas Series (or numPy Array) to the function it will operate over the whole data structure."
   ]
  },
  {
   "cell_type": "code",
   "execution_count": null,
   "metadata": {},
   "outputs": [],
   "source": [
    "# Function to convert frequency to radial velocity. Normally expect this to be pleaced at the\n",
    "# start of the program\n",
    "\n",
    "def freq_to_vel(freq, f0=1420.4e6):\n",
    "    ''' Takes a frequency value (or Pandas Dataframe column or Series) and returns\n",
    "    a velocity value (or new Dataframe column of values). f0 is the rest\n",
    "    frequency and defaults to 1420.4 MHz'''\n",
    "    \n",
    "    # We need a value for 'c' - speed of light. Either just do it here or, neatly, use the \n",
    "    # astropy 'constants'\n",
    "    c = 299792458.0  #m/s\n",
    "    \n",
    "    #v = # DO YOUR CALCULATION HERE - probably use km/s for convenience \n",
    "    v = \n",
    "    return v  #(km/s)                          "
   ]
  },
  {
   "cell_type": "markdown",
   "metadata": {},
   "source": [
    "### Step 1 - Get the data\n",
    "\n",
    "Now we can start the actual code.\n",
    "\n",
    "First we'll use our function to get the header lines and the main data"
   ]
  },
  {
   "cell_type": "code",
   "execution_count": 3,
   "metadata": {
    "scrolled": true
   },
   "outputs": [
    {
     "data": {
      "text/html": [
       "<div>\n",
       "<style scoped>\n",
       "    .dataframe tbody tr th:only-of-type {\n",
       "        vertical-align: middle;\n",
       "    }\n",
       "\n",
       "    .dataframe tbody tr th {\n",
       "        vertical-align: top;\n",
       "    }\n",
       "\n",
       "    .dataframe thead th {\n",
       "        text-align: right;\n",
       "    }\n",
       "</style>\n",
       "<table border=\"1\" class=\"dataframe\">\n",
       "  <thead>\n",
       "    <tr style=\"text-align: right;\">\n",
       "      <th></th>\n",
       "      <th>frequency</th>\n",
       "      <th>intensity</th>\n",
       "    </tr>\n",
       "  </thead>\n",
       "  <tbody>\n",
       "    <tr>\n",
       "      <th>0</th>\n",
       "      <td>-800000</td>\n",
       "      <td>2.322</td>\n",
       "    </tr>\n",
       "    <tr>\n",
       "      <th>1</th>\n",
       "      <td>-795000</td>\n",
       "      <td>2.363</td>\n",
       "    </tr>\n",
       "    <tr>\n",
       "      <th>2</th>\n",
       "      <td>-790000</td>\n",
       "      <td>2.439</td>\n",
       "    </tr>\n",
       "    <tr>\n",
       "      <th>3</th>\n",
       "      <td>-785000</td>\n",
       "      <td>2.446</td>\n",
       "    </tr>\n",
       "  </tbody>\n",
       "</table>\n",
       "</div>"
      ],
      "text/plain": [
       "   frequency  intensity\n",
       "0    -800000      2.322\n",
       "1    -795000      2.363\n",
       "2    -790000      2.439\n",
       "3    -785000      2.446"
      ]
     },
     "execution_count": 3,
     "metadata": {},
     "output_type": "execute_result"
    }
   ],
   "source": [
    "# Prompt the user for a file name (we'll call it file_name)\n",
    "# You should know how to do this by now\n",
    "file_name = #?????????\n",
    "\n",
    "spectrum_df, header_lines = read_ARROW_data(# What goes in here?)\n",
    "\n",
    "# Display the first few lines - does it look reasonable?\n",
    "spectrum_df.head(4)\n"
   ]
  },
  {
   "cell_type": "markdown",
   "metadata": {},
   "source": [
    "### Step 2 - Baseline Removal\n",
    "\n",
    "This acvtivity uses the spectra you should have collected 'off-source'.\n",
    "\n",
    "You'll need to read these in, find an average of the 'intensity' column (as the frequency column will be the same as the main spectra you only need to concern yourself with the 'intensity' column)\n",
    "\n",
    "The steps will be something like this:\n",
    "\n",
    "1. Read in the separate background files using Pandas. This will be as above, but you can ignore the header lines completely.\n",
    "2. Average the 'intensity' columns. Take advantage of the fact that, as with a numPy 1D Array, you can sum a number of Pandas Series (or DataFRame columns) by just using '+'. And you can divide a whole column by a number by just using '/'. See Section 5.3 'NumPy Arrays, in the \"Python Everything You Wanted To Know\" resource.\n",
    "3. Subtract this from the main spectrum 'intensity' column.\n",
    "\n",
    "You could use our data reading function or just skip the header lines using pandas\n",
    "\n",
    "Below is a very clumsy way of doing this using 'hard wired' file names. You should be able to make this more flexible by providing a list of file names (best by reading from a text file you supply) and iterating or looping over this list.\n"
   ]
  },
  {
   "cell_type": "code",
   "execution_count": null,
   "metadata": {},
   "outputs": [],
   "source": [
    "# Read in the background spectra, average and subtract from the spectrum\n",
    "# Here we use  'hard-wired' file names but you could use a file list, or manually enter them\n",
    "number_header_lines = 12\n",
    "\n",
    "bg1 = pd.read_csv('bg1.csv', header=number_header_lines)\n",
    "bg2 = pd.read_csv('bg2.csv', header=number_header_lines)\n",
    "bg3 = pd.read_csv('bg3.csv', header=number_header_lines)\n",
    "\n",
    "# Compute average 'intensity' values\n",
    "bg_av = (bg1['intensity']+bg2['intensity']+bg3['intensity'])/3\n",
    "print(type(bg_av))\n",
    "# Subract from spectrum 'intensity'\n",
    "spectrum_df['intensity'] = spectrum_df['intensity']-bg_av.values\n",
    "\n",
    "spectrum_df.head(4)\n"
   ]
  },
  {
   "cell_type": "markdown",
   "metadata": {},
   "source": [
    "Here, in outline, is a much better and more flexible way of doing this:\n",
    "\n",
    "1. Prepare a text file (with a simple text editor - NOT a word processor) containing a list of background files - one file name per line. \n",
    "2. Using the .read().splitlines() method demonstrated in the FileIO notebook, section 2.2, produce a Python list of these file names by reading the file - call it, say, 'bg_files'\n",
    "3. Now produce a Python list of the actual data from each of these files. Here's the sort of code you'll need:\n",
    "\n",
    "\n",
    "`li=[]\n",
    " for f in bg_files:\n",
    "    df = pd.read_csv(f, header=12)\n",
    "    li.append(df)`\n",
    "\n",
    "4. Now you have a list containg data you can produce an average set of data by using the 'sum' function and then dividing by the number of files - which, of course, is the length of the file list you've produced.\n",
    "\n",
    "`bg_av = sum(li)/len(li)`\n",
    "\n",
    "5. Finally you can subtract the 'intensity' values of this from the spectrum_df 'intensity' data as above.\n",
    "\n",
    "`spectrum_df['intensity'] = spectrum_df['intensity']-bg_av['intensity'].values`\n",
    "\n",
    "    "
   ]
  },
  {
   "cell_type": "markdown",
   "metadata": {},
   "source": [
    "### Step 2 - Process it\n",
    "\n",
    "Actually, now we've defined our 'freq_to_vel()' function, this is pretty trivial.\n",
    "\n",
    "There are a couple of steps you'll need to take to then modify the exitsing DataFrame. This isn't necessary if you're going to be using straight forward Python file IO, but makes writing the file later using Pandas pretty easy.\n",
    "\n"
   ]
  },
  {
   "cell_type": "code",
   "execution_count": null,
   "metadata": {},
   "outputs": [],
   "source": [
    "# Convert frequency to radial velocity values using this function\n",
    "spectrum_v = freq_to_vel(spectrum_df['frequency'])\n",
    "\n",
    "# Add a new 'velocity' column with these values\n",
    "spectrum_df['velocity'] = spectrum_v\n"
   ]
  },
  {
   "cell_type": "markdown",
   "metadata": {},
   "source": [
    "### Step 3 - Display it\n",
    "\n",
    "Use matplotlib or bokeh. There are UsingMatplotlib and UsingBokeh notebooks to assist.\n",
    "\n",
    "Don't forget you need to identify 'x' values and 'y' values from your data to pass to matplotlib or Bokeh. UsingBokeh section 2 should help here.\n",
    "\n"
   ]
  },
  {
   "cell_type": "code",
   "execution_count": null,
   "metadata": {},
   "outputs": [],
   "source": [
    "# Display code goes here"
   ]
  },
  {
   "cell_type": "markdown",
   "metadata": {},
   "source": [
    "\n",
    "### Step 4 - Finally, write the modified data out to a file.\n",
    "\n",
    "1. Prompt for a new file name\n",
    "2. Use the .writelines() function from FileIO section 2.1 to write the saved header lines to this file.\n",
    "3. Now APPEND the modified pandas data using the pandas .to_csv() method that is illustrated in UsingPandas section 3. Don't forget to APPEND it or you will overwrite the header lines."
   ]
  },
  {
   "cell_type": "code",
   "execution_count": null,
   "metadata": {},
   "outputs": [],
   "source": [
    "# Prompt for a new file name\n",
    "new_file_name = #########?\n",
    "\n",
    "# First write the header lines that we read in earlier to the file.\n",
    "# Use the .writelines() function from FileIO section 2.1\n",
    "\n",
    "    \n",
    "# Now APPEND the modified csv data using the pandas .to_csv() method \n",
    "# UsingPandas section 3 should help"
   ]
  },
  {
   "cell_type": "code",
   "execution_count": null,
   "metadata": {},
   "outputs": [],
   "source": []
  }
 ],
 "metadata": {
  "kernelspec": {
   "display_name": "Python 3",
   "language": "python",
   "name": "python3"
  },
  "language_info": {
   "codemirror_mode": {
    "name": "ipython",
    "version": 3
   },
   "file_extension": ".py",
   "mimetype": "text/x-python",
   "name": "python",
   "nbconvert_exporter": "python",
   "pygments_lexer": "ipython3",
   "version": "3.7.3"
  }
 },
 "nbformat": 4,
 "nbformat_minor": 2
}
