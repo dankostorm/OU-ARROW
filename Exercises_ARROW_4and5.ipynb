{
 "cells": [
  {
   "cell_type": "markdown",
   "metadata": {},
   "source": [
    "# ARROW Python exercises - Activities 4 and 5\n"
   ]
  },
  {
   "cell_type": "markdown",
   "metadata": {},
   "source": [
    "\n",
    "**Activity 4 and Activity 5** Using the final excercise in the 'Astopy-1' notebook (and possibly regex notebook for checking time/date format if you want), write a Python program that will Cycle through the 'longitude' (l) values given in Table 1 in section 2.6 and, using your chosen observing time/data print out a list of suitable 'tagets' that will be observable then. \n",
    "\n",
    "(NOTE to OU - This is an example solution. Probably not distributed. Could remove RA/Dec values)\n"
   ]
  },
  {
   "cell_type": "code",
   "execution_count": 24,
   "metadata": {},
   "outputs": [
    {
     "name": "stdout",
     "output_type": "stream",
     "text": [
      "These are the computed Alt/Az values (all in degrees)\n",
      "\n",
      " l      Alt     Az   OK?\n",
      "=========================\n",
      " 20   -39.1    51.3   -\n",
      " 30   -33.2    41.3   -\n",
      " 40   -26.6    32.6   -\n",
      " 50   -19.6    24.9   -\n",
      " 60   -12.2    17.8   -\n",
      " 70    -4.7    11.2   -\n",
      " 80     2.9     4.7   -\n",
      " 90    10.5   358.1   -\n",
      "100    17.9   351.1   -\n",
      "110    25.0   343.6   -\n",
      "120    31.8   335.2   +\n",
      "130    37.8   325.5   +\n",
      "140    43.0   314.2   +\n",
      "150    46.9   301.2   +\n",
      "160    49.1   286.6   +\n",
      "170    49.3   271.3   +\n",
      "180    47.5   256.4   +\n",
      "190    44.0   243.0   +\n",
      "200    39.1   231.3   +\n",
      "210    33.2   221.3   +\n",
      "220    26.6   212.6   +\n",
      "230    19.6   204.9   -\n",
      "240    12.2   197.8   -\n"
     ]
    }
   ],
   "source": [
    "from astropy.coordinates import SkyCoord, EarthLocation, AltAz\n",
    "from astropy.time import Time\n",
    "from astropy import units as u\n",
    "\n",
    "#obs_date = input('Enter observing date in format yyyy-mm-dd ')\n",
    "#obs_time = input('Enter observing start time (UTC) in format hh:mm:ss ')\n",
    "\n",
    "#Check format using regex to isolate yyyy, mm, dd, hh, mm, ss and check they are viable)\n",
    "\n",
    "# For debuging purposes put in some fixed values\n",
    "obs_date = '2019-12-15'\n",
    "obs_time = '03:30:00'\n",
    "\n",
    "#ARROW location:\n",
    "ARROW = EarthLocation(lat=52.024444*u.deg, \\\n",
    "                   lon=-0.706388*u.deg, \\\n",
    "                   height=114*u.m)\n",
    "# Set up date/time in correct format\n",
    "obs_str=obs_date+'T'+obs_time\n",
    "obs = Time(obs_str, format='isot', scale='utc')\n",
    "\n",
    "# Print output 'table' intro and headings\n",
    "print('These are the computed Alt/Az values (all in degrees)\\n')\n",
    "print (' l      Alt     Az   OK?')\n",
    "print ('=========================')\n",
    "\n",
    "# We're on the Galactic plane so ...\n",
    "b=0\n",
    "\n",
    "# Loop through a selection of Galactic longitudes\n",
    "for l in range(20, 250, 10):\n",
    "    # Get coordiantes\n",
    "    target = SkyCoord(l=l*u.deg, b=b*u.deg, frame='galactic')\n",
    "    # Do conversions\n",
    "    ARROW_frame=AltAz(obstime=obs, location=ARROW)\n",
    "    ARROW_altaz=target.transform_to(ARROW_frame)\n",
    "    \n",
    "    ARROW_alt = ARROW_altaz.alt.deg\n",
    "    ARROW_az = ARROW_altaz.az.deg\n",
    "    # Could do some checking\n",
    "    ok=''\n",
    "    if ARROW_alt>20 and ARROW_alt<80 and ARROW_az>20 and ARROW_az<340:\n",
    "        ok='+'\n",
    "    else:\n",
    "        ok='-'\n",
    "\n",
    "    print(f'{l:3d}   {ARROW_alt:5.1f}   {ARROW_az:5.1f}   {ok}')\n",
    "\n",
    "\n"
   ]
  },
  {
   "cell_type": "code",
   "execution_count": null,
   "metadata": {},
   "outputs": [],
   "source": []
  },
  {
   "cell_type": "code",
   "execution_count": null,
   "metadata": {},
   "outputs": [],
   "source": []
  },
  {
   "cell_type": "code",
   "execution_count": null,
   "metadata": {},
   "outputs": [],
   "source": []
  }
 ],
 "metadata": {
  "kernelspec": {
   "display_name": "Python 3",
   "language": "python",
   "name": "python3"
  },
  "language_info": {
   "codemirror_mode": {
    "name": "ipython",
    "version": 3
   },
   "file_extension": ".py",
   "mimetype": "text/x-python",
   "name": "python",
   "nbconvert_exporter": "python",
   "pygments_lexer": "ipython3",
   "version": "3.7.3"
  }
 },
 "nbformat": 4,
 "nbformat_minor": 2
}
